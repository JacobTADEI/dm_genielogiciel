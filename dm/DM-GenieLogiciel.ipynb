{
 "cells": [
  {
   "cell_type": "markdown",
   "metadata": {},
   "source": [
    "# Devoir Maison Génie Logiciel\n",
    "\n",
    "Master LLCER - parcours TAL\n",
    "Nicolas Gutehrlé\n",
    "\n",
    "## Modalités\n",
    "\n",
    "Les exercices sont à réaliser idéalement dans des fichiers notebook (.ipynb), mais certains exercices permettent d'employer des fichiers Python (.py) (voir les énoncés)\n",
    "\n",
    "Vous pourrez rendre ce devoir en le déposant sur GitHub et en transmettant le lien vers le dépôt Git. Vous pourrez rendre un dossier contenant tous les exercices que vous aurez créés. Pour simplifier l'envoi, n'hésitez pas à zipper ce dossier. Si votre fichier zip est trop lourd pour être envoyé par mail, n'hésitez pas à l'envoyer via WeTransfert.\n",
    "\n",
    "Chaque exercice vaut 6 points. 2 points bonus pourront être alloués pour la clarté et l'explication du code, ainsi que pour le dépôt du code sur GitHub.\n",
    "\n",
    "Le plagiat, c'est-à-dire la copie directe des supports de cours sera sanctionnée.\n",
    "\n",
    "L’utilisation d’Internet ainsi que des supports de cours est autorisée. Le travail est strictement personnel. L’évaluation portera sur la compréhension des notions du cours qui sera démontrée par l’étudiant. Un entretien oral est possible suite à l’examen pour préciser la note.\n",
    "\n",
    "Ce devoir est à rendre au plus tard par mail à **nicolas.gutehrle@univ-fcomte.fr** pour le **Lundi 4 décembre**. Tout jour de retard entraînera la perte d'un point sur la note finale. Tout devoir rendu au-delà du **Lundi 11 décembre** ne sera pas accepté.\n",
    "\n",
    "---"
   ]
  },
  {
   "cell_type": "markdown",
   "metadata": {},
   "source": [
    "## Points supplémentaires (2 points)\n",
    "\n",
    "Deux points supplémentaires pourront être accordés si les conditions suivantes sont réunies :\n",
    "* le code est documenté et commenté (1 point)\n",
    "* le code est déposé sur GitHub, avec un fichier README.md pour expliquer le projet (1 point)"
   ]
  },
  {
   "cell_type": "markdown",
   "metadata": {},
   "source": [
    "## Exercie 1 (6 points)\n",
    "\n",
    "Dans cet exercice, vous allez créer une base de données par rapport à votre mémoire :\n",
    "\n",
    "* Réalisez un schéma décrivant la structure de votre base de données. Ce schéma doit décrire les tables, les types de colonnes, les clés primaires\n",
    "* Créez une base de données dans MySQL. Cette base doit respecter le schéma que vous avez défini\n",
    "* Produisez un script permettant de créer cette base. Votre script peut être en Python (fichiers .py ou .ipynb) ou bien des fichiers SQL."
   ]
  },
  {
   "cell_type": "markdown",
   "metadata": {},
   "source": [
    "## Le schéma est dans l'image \"schemaexercice1.png"
   ]
  },
  {
   "cell_type": "code",
   "execution_count": 28,
   "metadata": {},
   "outputs": [
    {
     "name": "stdout",
     "output_type": "stream",
     "text": [
      "<mysql.connector.connection_cext.CMySQLConnection object at 0x11bdc1550>\n"
     ]
    }
   ],
   "source": [
    "#ici, on se connecte à la base de données\n",
    "\n",
    "import mysql.connector\n",
    "from mysql.connector import connect, Error\n",
    "\n",
    "user_input = 'root'\n",
    "password = \"SQLTAL49!\"\n",
    "try:\n",
    "    # on obtient une variable connection de type MySQLConnection avec laquelle on peut intéragir avec le serveur\n",
    "    connection = connect(\n",
    "        host=\"localhost\",\n",
    "        user = user_input,\n",
    "        password = password\n",
    "        # user=input(\"Enter username: \"),\n",
    "        # password=getpass(\"Enter password: \")\n",
    "    )\n",
    "    print(connection)\n",
    "# gestion de toutes erreurs de connection\n",
    "except Error as e:\n",
    "    print(e)\n"
   ]
  },
  {
   "cell_type": "code",
   "execution_count": 29,
   "metadata": {},
   "outputs": [],
   "source": [
    "#On créer la base de données \"DMCSGO5\"\n",
    "with connection.cursor() as cursor: \n",
    "    cursor.execute(\"CREATE DATABASE DMCSGO5\")"
   ]
  },
  {
   "cell_type": "code",
   "execution_count": 30,
   "metadata": {},
   "outputs": [],
   "source": [
    "#On se connecte à la base de données\n",
    "dbname = \"DMCSGO5\"\n",
    "query_connect_db = f\"USE {dbname}\"\n",
    "\n",
    "with connection.cursor() as cursor:\n",
    "    cursor.execute(query_connect_db)"
   ]
  },
  {
   "cell_type": "code",
   "execution_count": 31,
   "metadata": {},
   "outputs": [],
   "source": [
    "#On créer la table poids\n",
    "create_poids_table_query  = \"\"\"\n",
    "CREATE TABLE Poids (\n",
    "    idPoids INT NOT NULL AUTO_INCREMENT PRIMARY KEY,\n",
    "    PoidsAvance FLOAT,\n",
    "    PoidsIntermediaire FLOAT,\n",
    "    PoidsDebutant FLOAT\n",
    ")\n",
    "\"\"\"\n",
    "\n",
    "with connection.cursor() as cursor:\n",
    "    cursor.execute(create_poids_table_query)\n",
    "    connection.commit()"
   ]
  },
  {
   "cell_type": "code",
   "execution_count": 32,
   "metadata": {},
   "outputs": [],
   "source": [
    "#On créer la table Vocabulaire\n",
    "create_voc_table_query = \"\"\"\n",
    "CREATE TABLE Vocabulaire (\n",
    "    idVocabulaire INT NOT NULL AUTO_INCREMENT PRIMARY KEY,\n",
    "    Terme VARCHAR(45),\n",
    "    Définition VARCHAR(250),\n",
    "    idPoids INT,\n",
    "    FOREIGN KEY(idPoids) REFERENCES Poids(idPoids)\n",
    ")\n",
    "\"\"\"\n",
    "with connection.cursor() as cursor:\n",
    "    cursor.execute(create_voc_table_query)\n",
    "    # on note ici que l'on fait appel à la méthode commit(), qui est nécessaire lorsque l'on modifie la base\n",
    "    connection.commit()\n"
   ]
  },
  {
   "cell_type": "code",
   "execution_count": 41,
   "metadata": {},
   "outputs": [],
   "source": [
    "#On insère les données dans la table Poids\n",
    "insert_poids_query = \"\"\"\n",
    "INSERT INTO Poids (idPoids, PoidsAvance, PoidsIntermediaire, PoidsDebutant)\n",
    "VALUES \n",
    "    (1, 0.07, 0.007, 0.03),\n",
    "    (2, 0.1, 0.03, 0.004),\n",
    "    (3, 0.08, 0.07, 0.1),\n",
    "    (4, 0.002, 0.009, 0.0012),\n",
    "    (5, 0.04, 0.003, 0.005),\n",
    "    (6, 0.02, 0.03, 0.02),\n",
    "    (7, 0.002, 0.004, 0.01),\n",
    "    (8, 0.01, 0.003, 0.10),\n",
    "    (9, 0.02, 0.03, 0.02),\n",
    "    (10, 0.01, 0.008, 0.005),\n",
    "    (11, 0.02, 0.008, 0.005),\n",
    "    (12, 0.002, 0.001, 0.0),\n",
    "    (13, 0.003, 0.008, 0.005),\n",
    "    (14, 0.005, 0.01, 0.003),\n",
    "    (15, 0.001, 0.02, 0.04),\n",
    "    (16, 0.02, 0.03, 0.002),\n",
    "    (17, 0.03, 0.05, 0.04),\n",
    "    (18, 0.002, 0.06, 0.09),\n",
    "    (19, 0.001, 0.002, 0.005),\n",
    "    (20, 0.01, 0.1, 0.2)\n",
    "    \n",
    "    \n",
    "\"\"\"\n",
    "\n",
    "with connection.cursor() as cursor:\n",
    "    cursor.execute(insert_poids_query)\n",
    "    # ne pas oublier d'appeler commit()\n",
    "    connection.commit()"
   ]
  },
  {
   "cell_type": "code",
   "execution_count": 42,
   "metadata": {},
   "outputs": [],
   "source": [
    "#On insert les données dans la table vocabulaire\n",
    "insert_vocab_query = \"\"\"\n",
    "INSERT INTO Vocabulaire (idVocabulaire, Terme, Définition, idPoids)\n",
    "VALUES\n",
    "    (1, \"Smoke\", \"Grenade fumigène. Type de grenade qui répand un grand nuage de fumée.\", 1),\n",
    "    (2,\"Flash\", \"Type de grenade qui quand elle explose dégage une lumière blanche qui aveugle les joueurs présents dans son champ.\", 2),\n",
    "    (3, \"mid\", \"Littéralement “milieu”, désigne la partie centrale d’une carte\",3),\n",
    "    (4, \"Kit\", \"Accessoire qui permet à l'équipe des anti-terroristes de désamorcer la bombe posée par les terroristes.\",4),\n",
    "    (5, \"BP\", \"Lieu où les terroristes doivent planter la bombe. \",5),\n",
    "    (6, \"Rush\", \"Littéralement “se ruer”, désigne une attaque rapide sur un BP ou sur un endroit de la carte.\",6),\n",
    "    (7,\"ak\", \"Désigne une des armes principales utilisée par les terroristes\", 7),\n",
    "    (8, \"short\", \"Désigne un endroit précis sur chaque du jeu\", 8),\n",
    "    (9, \"back\", \"Littéralement “arrière” souvent utilisé pour situer les zones derrières les joueurs. Définit l’action de retourner, repartir sur une zone précise de la carte.\", 9),\n",
    "    (10, \"eco\", \"Fait de ne pas acheter d’arme principale et/ou de stuff au début d’un round par manque de monnaie.\",10),\n",
    "    (11, \"hp\", \"Health points : Points de vie du joueur\",11),\n",
    "    (12, \"fake\", \"Littéralement faux, truqué. Désigne une fausse situation créée par une équipe pour induire en erreur l’autre équipe.\",12),\n",
    "    (13, \"Call\", \"Littéralement : Appel. Décrit le fait qu’un joueur appelle quelque chose, qu’il demande à ce que quelque chose soit fait.\",13),\n",
    "    (14, \"Entry\", \"Littéralement “entrée”, Décrit la première élimination d'un joueur lors d'un round\",14),\n",
    "    (15, \"Low\", \"Littéralement “bas”, utilisé pour décrire un jouer qui n'a plus beaucoup de points de vie\",15),\n",
    "    (16, \"Mate\", \"Littéralement “Camarade”, utilisé pour désigner ses alliés\",16),\n",
    "    (17, \"Peek\", \"Littéralement “Coup d'oeil”, désigne l'action de regarder furtivement une zone pour prendre des informations\",17),\n",
    "    (18, \"Save\", \"Littéralement “sauver”. Désigne un joueur qui sauve ce possède sur lui (armes, grandes etc.) pour le prochain roud\",18),\n",
    "    (19, \"Slow\", \"Littéralement “lent”. Désigne l'action de marcher pour ne faire de bruit\",19),\n",
    "    (20, \"Kevlar\", \"Matière qui compose les gilets par-balles et qui sert à désigner ces derniers dans le jeu\",20)\n",
    "\"\"\"\n",
    "\n",
    "with connection.cursor() as cursor:\n",
    "    cursor.execute(insert_vocab_query)\n",
    "    # ne pas oublier d'appeler commit()\n",
    "    connection.commit()"
   ]
  },
  {
   "cell_type": "markdown",
   "metadata": {},
   "source": [
    "## Exercice 2 (6 points)\n",
    "\n",
    "Dans cet exercice, vous créerez une API permettant de manipuler votre base de données via Flask. Cette API doit permettre les requêtes suivantes :\n",
    "* accéder à toutes les données de la base\n",
    "* accéder à des données spécifiques de la base, en se basant sur l'identifiant\n",
    "* ajouter des données à la base\n",
    "* mettre à jour des données dans la base\n",
    "* supprimer des données spécifiques dans la base\n",
    "\n",
    "Afin de manipuler cette API, vous rendrez un fichier .ipynb, où au moins une cellule permet de réaliser chaque action."
   ]
  },
  {
   "cell_type": "code",
   "execution_count": 10,
   "metadata": {},
   "outputs": [
    {
     "name": "stdout",
     "output_type": "stream",
     "text": [
      "{\n",
      "  \"message\": \"Terme ajoute avec succes\"\n",
      "}\n",
      "\n"
     ]
    }
   ],
   "source": [
    "#Route pour ajouter un terme, sa définition et ses poids\n",
    "import requests\n",
    "\n",
    "url = 'http://127.0.0.1:5000/add_term' \n",
    "myobj = {\n",
    "    'terme': 'Bombe',\n",
    "    'definition': 'Equipement que les terroristes doivent poser pour gagner un roud',\n",
    "    'poids_avance': 0.02,         \n",
    "    'poids_intermediaire': 0.002,  \n",
    "    'poids_debutant': 0.05        \n",
    "}\n",
    "\n",
    "response = requests.post(url, json=myobj)\n",
    "print(response.text)\n"
   ]
  },
  {
   "cell_type": "code",
   "execution_count": 9,
   "metadata": {},
   "outputs": [
    {
     "name": "stdout",
     "output_type": "stream",
     "text": [
      "{\n",
      "  \"message\": \"Terme avec id 22 supprime\"\n",
      "}\n",
      "\n"
     ]
    }
   ],
   "source": [
    "#Route pour supprimer des données spécifiques\n",
    "import requests\n",
    "\n",
    "\n",
    "id_vocabulaire = 21 #On choisi ici l'id que l'on veut supprimer\n",
    "url = f'http://127.0.0.1:5000/delete_term/{id_vocabulaire}'  \n",
    "response = requests.delete(url)\n",
    "print(response.text)\n"
   ]
  },
  {
   "cell_type": "code",
   "execution_count": 15,
   "metadata": {},
   "outputs": [
    {
     "name": "stdout",
     "output_type": "stream",
     "text": [
      "{\n",
      "  \"message\": \"Terme avec id 13 mis \\u00e0 jour\"\n",
      "}\n",
      "\n"
     ]
    }
   ],
   "source": [
    "#Route pour mettre à jour les données  \n",
    "import requests\n",
    "\n",
    "\n",
    "id_vocabulaire = 2 #Ici on choisi l'id que l'on veut mettre à jour\n",
    "url = f'http://127.0.0.1:5000/update_term/{id_vocabulaire}'  \n",
    "data = {\n",
    "    'definition': 'Equipement que les terroristes doivent poser pour gagner un roud si elle explose',\n",
    "    'poids': {\n",
    "        'avance': 0.05,\n",
    "        'intermediaire': 0.1,\n",
    "        'debutant': 0.07\n",
    "    }\n",
    "}\n",
    "response = requests.put(url, json=data)\n",
    "print(response.text)\n"
   ]
  },
  {
   "cell_type": "code",
   "execution_count": 5,
   "metadata": {},
   "outputs": [
    {
     "name": "stdout",
     "output_type": "stream",
     "text": [
      "{'Définition': 'Matière qui compose les gilets par-balles et qui sert à désigner ces derniers dans le jeu', 'PoidsAvance': 0.01, 'PoidsDebutant': 0.2, 'PoidsIntermediaire': 0.1, 'Terme': 'Kevlar', 'idVocabulaire': 20}\n"
     ]
    }
   ],
   "source": [
    "#Route pour obtenir des données spécifiques\n",
    "import requests\n",
    "\n",
    "\n",
    "id_vocabulaire = 20 #Ici on choisi l'id dont on veut avoir les données\n",
    "url = f'http://127.0.0.1:5000/get_specific_data/{id_vocabulaire}'\n",
    "\n",
    "response = requests.get(url)\n",
    "print(response.json())\n"
   ]
  },
  {
   "cell_type": "code",
   "execution_count": 6,
   "metadata": {},
   "outputs": [
    {
     "name": "stdout",
     "output_type": "stream",
     "text": [
      "[{'Définition': 'Grenade fumigène. Type de grenade qui répand un grand nuage de fumée.', 'PoidsAvance': 0.07, 'PoidsDebutant': 0.03, 'PoidsIntermediaire': 0.007, 'Terme': 'Smoke'}, {'Définition': 'Type de grenade qui quand elle explose dégage une lumière blanche qui aveugle les joueurs présents dans son champ.', 'PoidsAvance': 0.1, 'PoidsDebutant': 0.004, 'PoidsIntermediaire': 0.03, 'Terme': 'Flash'}, {'Définition': 'Littéralement “milieu”, désigne la partie centrale d’une carte', 'PoidsAvance': 0.08, 'PoidsDebutant': 0.1, 'PoidsIntermediaire': 0.07, 'Terme': 'mid'}, {'Définition': \"Accessoire qui permet à l'équipe des anti-terroristes de désamorcer la bombe posée par les terroristes.\", 'PoidsAvance': 0.002, 'PoidsDebutant': 0.0012, 'PoidsIntermediaire': 0.009, 'Terme': 'Kit'}, {'Définition': 'Lieu où les terroristes doivent planter la bombe. ', 'PoidsAvance': 0.04, 'PoidsDebutant': 0.005, 'PoidsIntermediaire': 0.003, 'Terme': 'BP'}, {'Définition': 'Littéralement “se ruer”, désigne une attaque rapide sur un BP ou sur un endroit de la carte.', 'PoidsAvance': 0.02, 'PoidsDebutant': 0.02, 'PoidsIntermediaire': 0.03, 'Terme': 'Rush'}, {'Définition': 'Désigne une des armes principales utilisée par les terroristes', 'PoidsAvance': 0.002, 'PoidsDebutant': 0.01, 'PoidsIntermediaire': 0.004, 'Terme': 'ak'}, {'Définition': 'Désigne un endroit précis sur chaque du jeu', 'PoidsAvance': 0.01, 'PoidsDebutant': 0.1, 'PoidsIntermediaire': 0.003, 'Terme': 'short'}, {'Définition': 'Littéralement “arrière” souvent utilisé pour situer les zones derrières les joueurs. Définit l’action de retourner, repartir sur une zone précise de la carte.', 'PoidsAvance': 0.02, 'PoidsDebutant': 0.02, 'PoidsIntermediaire': 0.03, 'Terme': 'back'}, {'Définition': 'Fait de ne pas acheter d’arme principale et/ou de stuff au début d’un round par manque de monnaie.', 'PoidsAvance': 0.01, 'PoidsDebutant': 0.005, 'PoidsIntermediaire': 0.008, 'Terme': 'eco'}, {'Définition': 'Health points : Points de vie du joueur', 'PoidsAvance': 0.02, 'PoidsDebutant': 0.005, 'PoidsIntermediaire': 0.008, 'Terme': 'hp'}, {'Définition': 'Littéralement faux, truqué. Désigne une fausse situation créée par une équipe pour induire en erreur l’autre équipe.', 'PoidsAvance': 0.002, 'PoidsDebutant': 0.0, 'PoidsIntermediaire': 0.001, 'Terme': 'fake'}, {'Définition': 'Littéralement : Appel. Décrit le fait qu’un joueur appelle quelque chose, qu’il demande à ce que quelque chose soit fait.', 'PoidsAvance': 0.003, 'PoidsDebutant': 0.005, 'PoidsIntermediaire': 0.008, 'Terme': 'Call'}, {'Définition': \"Littéralement “entrée”, Décrit la première élimination d'un joueur lors d'un round\", 'PoidsAvance': 0.005, 'PoidsDebutant': 0.003, 'PoidsIntermediaire': 0.01, 'Terme': 'Entry'}, {'Définition': \"Littéralement “bas”, utilisé pour décrire un jouer qui n'a plus beaucoup de points de vie\", 'PoidsAvance': 0.001, 'PoidsDebutant': 0.04, 'PoidsIntermediaire': 0.02, 'Terme': 'Low'}, {'Définition': 'Littéralement “Camarade”, utilisé pour désigner ses alliés', 'PoidsAvance': 0.02, 'PoidsDebutant': 0.002, 'PoidsIntermediaire': 0.03, 'Terme': 'Mate'}, {'Définition': \"Littéralement “Coup d'oeil”, désigne l'action de regarder furtivement une zone pour prendre des informations\", 'PoidsAvance': 0.03, 'PoidsDebutant': 0.04, 'PoidsIntermediaire': 0.05, 'Terme': 'Peek'}, {'Définition': 'Littéralement “sauver”. Désigne un joueur qui sauve ce possède sur lui (armes, grandes etc.) pour le prochain roud', 'PoidsAvance': 0.002, 'PoidsDebutant': 0.09, 'PoidsIntermediaire': 0.06, 'Terme': 'Save'}, {'Définition': \"Littéralement “lent”. Désigne l'action de marcher pour ne faire de bruit\", 'PoidsAvance': 0.001, 'PoidsDebutant': 0.005, 'PoidsIntermediaire': 0.002, 'Terme': 'Slow'}, {'Définition': 'Matière qui compose les gilets par-balles et qui sert à désigner ces derniers dans le jeu', 'PoidsAvance': 0.01, 'PoidsDebutant': 0.2, 'PoidsIntermediaire': 0.1, 'Terme': 'Kevlar'}]\n"
     ]
    }
   ],
   "source": [
    "#Route qui retourne toutes les données\n",
    "url = 'http://127.0.0.1:5000/get_data'\n",
    "\n",
    "response = requests.get(url)\n",
    "data = response.json()\n",
    "\n",
    "print(data)"
   ]
  },
  {
   "cell_type": "markdown",
   "metadata": {},
   "source": [
    "## Exercice 3 (6 points)\n",
    "\n",
    "Dans cet exercice, vous réaliserez une interface web avec Flask, qui permettra d'accéder et de manipuler vos données, ainsi que de les visualiser :\n",
    "* L'interface ne sera composée que d'une seule page HTML. Cette page doit se mettre à jour en fonction des requêtes envoyées\n",
    "* Afin d'intéragir avec la base de données, l'interface doit soit comportant un champ texte, soit permettre de sélectionner des phrases\n",
    "* L'interface doit permettre les deux requêtes suivantes :\n",
    "    * retourner toutes les données\n",
    "    * retourner des données spécifiques\n",
    "* L'interface doit comporter au moins un élément de visualisation, qui affiche via un diagramme à barres la distribution de vos données. Si possible, vous semble utile, ou bien que le diagramme à barre ne corresponde pas à vos données, n'hésitez pas à utiliser d'autres types de graphiques\n",
    "* Le graphique doit être responsif et intéractif, et proposer plusieurs outils pour le manipuler\n",
    "* Les graphique doit s'adapter aux données retournées par les requêtes"
   ]
  },
  {
   "cell_type": "code",
   "execution_count": null,
   "metadata": {},
   "outputs": [],
   "source": [
    "# Tout se trouve dans mes fichiers \"script.js\", \"hello.py\", \"index.html\" et \"style.css\""
   ]
  }
 ],
 "metadata": {
  "kernelspec": {
   "display_name": "Python 3",
   "language": "python",
   "name": "python3"
  },
  "language_info": {
   "codemirror_mode": {
    "name": "ipython",
    "version": 3
   },
   "file_extension": ".py",
   "mimetype": "text/x-python",
   "name": "python",
   "nbconvert_exporter": "python",
   "pygments_lexer": "ipython3",
   "version": "3.9.6"
  },
  "orig_nbformat": 4
 },
 "nbformat": 4,
 "nbformat_minor": 2
}
