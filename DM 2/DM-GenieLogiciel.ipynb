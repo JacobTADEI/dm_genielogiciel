{
 "cells": [
  {
   "cell_type": "markdown",
   "metadata": {},
   "source": [
    "# Devoir Maison Génie Logiciel\n",
    "\n",
    "Master LLCER - parcours TAL\n",
    "Nicolas Gutehrlé\n",
    "\n",
    "## Modalités\n",
    "\n",
    "Les exercices sont à réaliser idéalement dans des fichiers notebook (.ipynb), mais certains exercices permettent d'employer des fichiers Python (.py) (voir les énoncés)\n",
    "\n",
    "Vous pourrez rendre ce devoir en le déposant sur GitHub et en transmettant le lien vers le dépôt Git. Vous pourrez rendre un dossier contenant tous les exercices que vous aurez créés. Pour simplifier l'envoi, n'hésitez pas à zipper ce dossier. Si votre fichier zip est trop lourd pour être envoyé par mail, n'hésitez pas à l'envoyer via WeTransfert.\n",
    "\n",
    "Chaque exercice vaut 6 points. 2 points bonus pourront être alloués pour la clarté et l'explication du code, ainsi que pour le dépôt du code sur GitHub.\n",
    "\n",
    "Le plagiat, c'est-à-dire la copie directe des supports de cours sera sanctionnée.\n",
    "\n",
    "L’utilisation d’Internet ainsi que des supports de cours est autorisée. Le travail est strictement personnel. L’évaluation portera sur la compréhension des notions du cours qui sera démontrée par l’étudiant. Un entretien oral est possible suite à l’examen pour préciser la note.\n",
    "\n",
    "Ce devoir est à rendre au plus tard par mail à **nicolas.gutehrle@univ-fcomte.fr** pour le **Lundi 4 décembre**. Tout jour de retard entraînera la perte d'un point sur la note finale. Tout devoir rendu au-delà du **Lundi 11 décembre** ne sera pas accepté.\n",
    "\n",
    "---"
   ]
  },
  {
   "cell_type": "markdown",
   "metadata": {},
   "source": [
    "## Points supplémentaires (2 points)\n",
    "\n",
    "Deux points supplémentaires pourront être accordés si les conditions suivantes sont réunies :\n",
    "* le code est documenté et commenté (1 point)\n",
    "* le code est déposé sur GitHub, avec un fichier README.md pour expliquer le projet (1 point)"
   ]
  },
  {
   "cell_type": "markdown",
   "metadata": {},
   "source": [
    "## Exercie 1 (6 points)\n",
    "\n",
    "Dans cet exercice, vous allez créer une base de données par rapport à votre mémoire :\n",
    "\n",
    "* Réalisez un schéma décrivant la structure de votre base de données. Ce schéma doit décrire les tables, les types de colonnes, les clés primaires\n",
    "* Créez une base de données dans MySQL. Cette base doit respecter le schéma que vous avez défini\n",
    "* Produisez un script permettant de créer cette base. Votre script peut être en Python (fichiers .py ou .ipynb) ou bien des fichiers SQL."
   ]
  },
  {
   "cell_type": "code",
   "execution_count": 1,
   "metadata": {},
   "outputs": [
    {
     "name": "stdout",
     "output_type": "stream",
     "text": [
      "<mysql.connector.connection_cext.CMySQLConnection object at 0x1071969a0>\n"
     ]
    }
   ],
   "source": [
    "import mysql.connector\n",
    "from mysql.connector import connect, Error\n",
    "\n",
    "user_input = 'root'\n",
    "password = \"SQLTAL49!\"\n",
    "try:\n",
    "    # on obtient une variable connection de type MySQLConnection avec laquelle on peut intéragir avec le serveur\n",
    "    connection = connect(\n",
    "        host=\"localhost\",\n",
    "        user = user_input,\n",
    "        password = password\n",
    "        # user=input(\"Enter username: \"),\n",
    "        # password=getpass(\"Enter password: \")\n",
    "    )\n",
    "    print(connection)\n",
    "# gestion de toutes erreurs de connection\n",
    "except Error as e:\n",
    "    print(e)\n"
   ]
  },
  {
   "cell_type": "code",
   "execution_count": 2,
   "metadata": {},
   "outputs": [],
   "source": [
    "with connection.cursor() as cursor: \n",
    "    cursor.execute(\"CREATE DATABASE DMCSGO4\")"
   ]
  },
  {
   "cell_type": "code",
   "execution_count": 3,
   "metadata": {},
   "outputs": [],
   "source": [
    "dbname = \"DMCSGO4\"\n",
    "query_connect_db = f\"USE {dbname}\"\n",
    "\n",
    "with connection.cursor() as cursor:\n",
    "    cursor.execute(query_connect_db)"
   ]
  },
  {
   "cell_type": "code",
   "execution_count": 4,
   "metadata": {},
   "outputs": [],
   "source": [
    "create_voc_table_query = \"\"\"\n",
    "CREATE TABLE Vocabulaire (\n",
    "    idVocabulaire INT NOT NULL AUTO_INCREMENT PRIMARY KEY,\n",
    "    Terme VARCHAR(45),\n",
    "    Définition VARCHAR(250),\n",
    "    idPoids FLOAT\n",
    ")\n",
    "\"\"\"\n",
    "with connection.cursor() as cursor:\n",
    "    cursor.execute(create_voc_table_query)\n",
    "    # on note ici que l'on fait appel à la méthode commit(), qui est nécessaire lorsque l'on modifie la base\n",
    "    connection.commit()\n"
   ]
  },
  {
   "cell_type": "code",
   "execution_count": 5,
   "metadata": {},
   "outputs": [],
   "source": [
    "create_poids_table_query  = \"\"\"\n",
    "CREATE TABLE Poids (\n",
    "    idPoids INT AUTO_INCREMENT PRIMARY KEY,\n",
    "    PoidsAvance FLOAT,\n",
    "    PoidsIntermediaire FLOAT,\n",
    "    PoidsDebutant FLOAT\n",
    ")\n",
    "\"\"\"\n",
    "\n",
    "with connection.cursor() as cursor:\n",
    "    cursor.execute(create_poids_table_query)\n",
    "    connection.commit()"
   ]
  },
  {
   "cell_type": "code",
   "execution_count": 6,
   "metadata": {},
   "outputs": [],
   "source": [
    "insert_vocab_query = \"\"\"\n",
    "INSERT INTO Vocabulaire (idVocabulaire, Terme, Définition, idPoids)\n",
    "VALUES\n",
    "    (1, \"Smoke\", \"Grenade fumigène. Type de grenade qui répand un grand nuage de fumée.\", 1),\n",
    "    (2,\"Flash\", \"Type de grenade qui quand elle explose dégage une lumière blanche qui aveugle les joueurs présents dans son champ.\", 2),\n",
    "    (3, \"mid\", \"Littéralement “milieu”, désigne la partie centrale d’une carte\",3),\n",
    "    (4, \"Kit\", \"Accessoire qui permet à l'équipe des anti-terroristes de désamorcer la bombe posée par les terroristes.\",4),\n",
    "    (5, \"BP\", \"Lieu où les terroristes doivent planter la bombe. \",5),\n",
    "    (6, \"Rush\", \"Littéralement “se ruer”, désigne une attaque rapide sur un BP ou sur un endroit de la carte.\",6),\n",
    "    (7,\"ak\", \"Désigne une des armes principales utilisée par les terroristes\", 7),\n",
    "    (8, \"short\", \"Désigne un endroit précis sur chaque du jeu\", 8),\n",
    "    (9, \"back\", \"Littéralement “arrière” souvent utilisé pour situer les zones derrières les joueurs. Définit l’action de retourner, repartir sur une zone précise de la carte.\", 9),\n",
    "    (10, \"eco\", \"Fait de ne pas acheter d’arme principale et/ou de stuff au début d’un round par manque de monnaie.\",10),\n",
    "    (11, \"hp\", \"Health points : Points de vie du joueur\",11),\n",
    "    (12, \"fake\", \"Littéralement faux, truqué. Désigne une fausse situation créée par une équipe pour induire en erreur l’autre équipe.\",12)\n",
    "\"\"\"\n",
    "\n",
    "with connection.cursor() as cursor:\n",
    "    cursor.execute(insert_vocab_query)\n",
    "    # ne pas oublier d'appeler commit()\n",
    "    connection.commit()"
   ]
  },
  {
   "cell_type": "code",
   "execution_count": 7,
   "metadata": {},
   "outputs": [],
   "source": [
    "insert_poids_query = \"\"\"\n",
    "INSERT INTO Poids (idPoids, PoidsAvance, PoidsIntermediaire, PoidsDebutant)\n",
    "VALUES \n",
    "    (1, 0.07, 0.007, 0.03),\n",
    "    (2, 0.1, 0.03, 0.004),\n",
    "    (3, 0.08, 0.07, 0.1),\n",
    "    (4, 0.002, 0.009, 0.0012),\n",
    "    (5, 0.04, 0.003, 0.005),\n",
    "    (6, 0.02, 0.03, 0.02),\n",
    "    (7, 0.002, 0.004, 0.01),\n",
    "    (8, 0.01, 0.003, 0.10),\n",
    "    (9, 0.02, 0.03, 0.02),\n",
    "    (10, 0.01, 0.008, 0.005),\n",
    "    (11, 0.02, 0.008, 0.005),\n",
    "    (12, 0.002, 0.001, 0.0)\n",
    "    \n",
    "\"\"\"\n",
    "\n",
    "with connection.cursor() as cursor:\n",
    "    cursor.execute(insert_poids_query)\n",
    "    # ne pas oublier d'appeler commit()\n",
    "    connection.commit()"
   ]
  },
  {
   "cell_type": "code",
   "execution_count": 8,
   "metadata": {},
   "outputs": [
    {
     "name": "stdout",
     "output_type": "stream",
     "text": [
      "<!doctype html>\n",
      "<html lang=en>\n",
      "<title>404 Not Found</title>\n",
      "<h1>Not Found</h1>\n",
      "<p>The requested URL was not found on the server. If you entered the URL manually please check your spelling and try again.</p>\n",
      "\n"
     ]
    },
    {
     "name": "stderr",
     "output_type": "stream",
     "text": [
      "/Users/macbookairjacob/Library/Python/3.9/lib/python/site-packages/urllib3/__init__.py:34: NotOpenSSLWarning: urllib3 v2.0 only supports OpenSSL 1.1.1+, currently the 'ssl' module is compiled with 'LibreSSL 2.8.3'. See: https://github.com/urllib3/urllib3/issues/3020\n",
      "  warnings.warn(\n"
     ]
    }
   ],
   "source": [
    "import requests\n",
    "import json\n",
    "\n",
    "url = 'http://127.0.0.1:5000/api/v1/resources/vocabulaire/update'\n",
    "myobj = {\n",
    "    'idVocabulaire': 13,\n",
    "    'Terme': 'Bombe',\n",
    "    'Définition': 'Objet que les terroristes doivent poser pour gagner un round',\n",
    "    'PoidsAvance': 0.06,\n",
    "    'PoidsIntermediaire': 0.03,\n",
    "    'PoidsDebutant': 0.04\n",
    "}\n",
    "\n",
    "response = requests.put(url, json=myobj)\n",
    "print(response.text)\n",
    "\n"
   ]
  },
  {
   "cell_type": "markdown",
   "metadata": {},
   "source": [
    "## Exercice 2 (6 points)\n",
    "\n",
    "Dans cet exercice, vous créerez une API permettant de manipuler votre base de données via Flask. Cette API doit permettre les requêtes suivantes :\n",
    "* accéder à toutes les données de la base\n",
    "* accéder à des données spécifiques de la base, en se basant sur l'identifiant\n",
    "* ajouter des données à la base\n",
    "* mettre à jour des données dans la base\n",
    "* supprimer des données spécifiques dans la base\n",
    "\n",
    "Afin de manipuler cette API, vous rendrez un fichier .ipynb, où au moins une cellule permet de réaliser chaque action."
   ]
  },
  {
   "cell_type": "code",
   "execution_count": 11,
   "metadata": {},
   "outputs": [
    {
     "name": "stdout",
     "output_type": "stream",
     "text": [
      "{\n",
      "  \"message\": \"Terme ajoute avec succes\"\n",
      "}\n",
      "\n"
     ]
    }
   ],
   "source": [
    "#Route pour ajouter un terme, sa définition et ses poids\n",
    "import requests\n",
    "\n",
    "url = 'http://127.0.0.1:5000/add_term'  # Assurez-vous que l'URL correspond à votre route Flask\n",
    "myobj = {\n",
    "    'terme': 'Bombe',\n",
    "    'definition': 'Equipement que les terroristes doivent poser pour gagner un roud',\n",
    "    'poids_avance': 0.02,         \n",
    "    'poids_intermediaire': 0.002,  \n",
    "    'poids_debutant': 0.05        \n",
    "}\n",
    "\n",
    "response = requests.post(url, json=myobj)\n",
    "print(response.text)\n"
   ]
  },
  {
   "cell_type": "code",
   "execution_count": 12,
   "metadata": {},
   "outputs": [
    {
     "name": "stdout",
     "output_type": "stream",
     "text": [
      "{\n",
      "  \"message\": \"Terme avec id 16 supprime\"\n",
      "}\n",
      "\n"
     ]
    }
   ],
   "source": [
    "#Route pour supprimer des données\n",
    "import requests\n",
    "\n",
    "url = 'http://127.0.0.1:5000/delete_term/16'  # Remplacez 8 par l'ID que vous souhaitez supprimer\n",
    "response = requests.delete(url)\n",
    "print(response.text)\n"
   ]
  },
  {
   "cell_type": "code",
   "execution_count": 15,
   "metadata": {},
   "outputs": [
    {
     "name": "stdout",
     "output_type": "stream",
     "text": [
      "{\n",
      "  \"message\": \"Terme avec id 13 mis \\u00e0 jour\"\n",
      "}\n",
      "\n"
     ]
    }
   ],
   "source": [
    "#Route pour mettre à jour les données  \n",
    "import requests\n",
    "\n",
    "url = 'http://127.0.0.1:5000/update_term/13'  # Remplacez 1 par l'ID que vous souhaitez mettre à jour\n",
    "data = {\n",
    "    'definition': 'Equipement que les terroristes doivent poser pour gagner un roud si elle explose',\n",
    "    'poids': {\n",
    "        'avance': 0.333,\n",
    "        'intermediaire': 0.666,\n",
    "        'debutant': 0.999\n",
    "    }\n",
    "}\n",
    "response = requests.put(url, json=data)\n",
    "print(response.text)\n"
   ]
  },
  {
   "cell_type": "code",
   "execution_count": 14,
   "metadata": {},
   "outputs": [
    {
     "name": "stdout",
     "output_type": "stream",
     "text": [
      "{'Définition': 'Equipement que les terroristes doivent poser pour gagner un roud', 'PoidsAvance': 0.02, 'PoidsDebutant': 0.05, 'PoidsIntermediaire': 0.002, 'Terme': 'Bombe', 'idVocabulaire': 13}\n"
     ]
    }
   ],
   "source": [
    "#Route pour obtenir des données spécifiques\n",
    "import requests\n",
    "\n",
    "# Remplacez <id_vocabulaire> par l'ID réel que vous souhaitez consulter\n",
    "id_vocabulaire = 13  # Exemple avec l'ID 1\n",
    "url = f'http://127.0.0.1:5000/get_specific_data/{id_vocabulaire}'\n",
    "\n",
    "response = requests.get(url)\n",
    "print(response.json())\n"
   ]
  },
  {
   "cell_type": "code",
   "execution_count": 13,
   "metadata": {},
   "outputs": [
    {
     "name": "stdout",
     "output_type": "stream",
     "text": [
      "[{'PoidsAvance': 0.333, 'PoidsDebutant': 0.999, 'PoidsIntermediaire': 0.666, 'Terme': 'Smoke'}, {'PoidsAvance': 0.1, 'PoidsDebutant': 0.004, 'PoidsIntermediaire': 0.03, 'Terme': 'Flash'}, {'PoidsAvance': 0.08, 'PoidsDebutant': 0.1, 'PoidsIntermediaire': 0.07, 'Terme': 'mid'}, {'PoidsAvance': 0.002, 'PoidsDebutant': 0.0012, 'PoidsIntermediaire': 0.009, 'Terme': 'Kit'}, {'PoidsAvance': 0.04, 'PoidsDebutant': 0.005, 'PoidsIntermediaire': 0.003, 'Terme': 'BP'}, {'PoidsAvance': 0.02, 'PoidsDebutant': 0.02, 'PoidsIntermediaire': 0.03, 'Terme': 'Rush'}, {'PoidsAvance': 0.002, 'PoidsDebutant': 0.01, 'PoidsIntermediaire': 0.004, 'Terme': 'ak'}, {'PoidsAvance': 0.01, 'PoidsDebutant': 0.1, 'PoidsIntermediaire': 0.003, 'Terme': 'short'}, {'PoidsAvance': 0.02, 'PoidsDebutant': 0.02, 'PoidsIntermediaire': 0.03, 'Terme': 'back'}, {'PoidsAvance': 0.01, 'PoidsDebutant': 0.005, 'PoidsIntermediaire': 0.008, 'Terme': 'eco'}, {'PoidsAvance': 0.02, 'PoidsDebutant': 0.005, 'PoidsIntermediaire': 0.008, 'Terme': 'hp'}, {'PoidsAvance': 0.002, 'PoidsDebutant': 0.0, 'PoidsIntermediaire': 0.001, 'Terme': 'fake'}]\n"
     ]
    }
   ],
   "source": [
    "url = 'http://127.0.0.1:5000/get_data'\n",
    "\n",
    "response = requests.get(url)\n",
    "data = response.json()\n",
    "\n",
    "print(data)"
   ]
  },
  {
   "cell_type": "markdown",
   "metadata": {},
   "source": [
    "## Exercice 3 (6 points)\n",
    "\n",
    "Dans cet exercice, vous réaliserez une interface web avec Flask, qui permettra d'accéder et de manipuler vos données, ainsi que de les visualiser :\n",
    "* L'interface ne sera composée que d'une seule page HTML. Cette page doit se mettre à jour en fonction des requêtes envoyées\n",
    "* Afin d'intéragir avec la base de données, l'interface doit soit comportant un champ texte, soit permettre de sélectionner des phrases\n",
    "* L'interface doit permettre les deux requêtes suivantes :\n",
    "    * retourner toutes les données\n",
    "    * retourner des données spécifiques\n",
    "* L'interface doit comporter au moins un élément de visualisation, qui affiche via un diagramme à barres la distribution de vos données. Si possible, vous semble utile, ou bien que le diagramme à barre ne corresponde pas à vos données, n'hésitez pas à utiliser d'autres types de graphiques\n",
    "* Le graphique doit être responsif et intéractif, et proposer plusieurs outils pour le manipuler\n",
    "* Les graphique doit s'adapter aux données retournées par les requêtes"
   ]
  },
  {
   "cell_type": "code",
   "execution_count": null,
   "metadata": {},
   "outputs": [],
   "source": [
    "from flask import Flask, render_template"
   ]
  }
 ],
 "metadata": {
  "kernelspec": {
   "display_name": "Python 3",
   "language": "python",
   "name": "python3"
  },
  "language_info": {
   "codemirror_mode": {
    "name": "ipython",
    "version": 3
   },
   "file_extension": ".py",
   "mimetype": "text/x-python",
   "name": "python",
   "nbconvert_exporter": "python",
   "pygments_lexer": "ipython3",
   "version": "3.9.6"
  },
  "orig_nbformat": 4
 },
 "nbformat": 4,
 "nbformat_minor": 2
}
